{
 "cells": [
  {
   "cell_type": "markdown",
   "metadata": {},
   "source": [
    "# GPLVM"
   ]
  },
  {
   "cell_type": "code",
   "execution_count": 1,
   "metadata": {
    "collapsed": false
   },
   "outputs": [
    {
     "name": "stderr",
     "output_type": "stream",
     "text": [
      "/Users/roger/anaconda/lib/python3.6/importlib/_bootstrap.py:205: RuntimeWarning: compiletime version 3.5 of module 'tensorflow.python.framework.fast_tensor_util' does not match runtime version 3.6\n",
      "  return f(*args, **kwds)\n"
     ]
    }
   ],
   "source": [
    "from __future__ import absolute_import\n",
    "from __future__ import division\n",
    "from __future__ import print_function\n",
    "%matplotlib notebook\n",
    "\n",
    "import edward as ed\n",
    "import numpy as np\n",
    "import tensorflow as tf\n",
    "import matplotlib.pyplot as plt\n",
    "\n",
    "from edward.models import Bernoulli, MultivariateNormalTriL, Normal\n",
    "from edward.util import rbf\n",
    "from observations import crabs\n",
    "from sklearn.decomposition import PCA\n",
    "import scipy.io"
   ]
  },
  {
   "cell_type": "code",
   "execution_count": null,
   "metadata": {
    "collapsed": true
   },
   "outputs": [],
   "source": [
    "# def const(x):\n",
    "#     x = tf.constant(x,dtype=tf.float32)\n",
    "#     return x\n",
    "\n",
    "# plt.subplots(2,3,figsize=(10,6))\n",
    "\n",
    "# def build_toy_dataset(N, D, K, Ngrid = 100, prior_l=2, prior_sig_f=1, l=0.5, sig_f=1, sig_n=1e-1):\n",
    "#     Nall = Ngrid + N\n",
    "#     tgrid = np.linspace(-5, 5, num=N).reshape(-1,1)\n",
    "\n",
    "#     sess = ed.get_session()\n",
    "#     with sess.as_default():\n",
    "#         Kprior = rbf(const(tgrid),lengthscale=const(prior_l),variance=const(prior_sig_f)).eval()\n",
    "\n",
    "#     z_mu = np.zeros(N)\n",
    "#     z_cov = Kprior + 1e-10*np.eye(N)\n",
    "#     z = np.random.multivariate_normal(z_mu, z_cov).T.reshape(-1,1)\n",
    "#     zgrid = np.linspace(z.min(), z.max(), num=Ngrid).reshape(-1,1)\n",
    "#     zall = np.vstack((z,zgrid))\n",
    "\n",
    "#     plt.subplot(2,3,1)\n",
    "#     plt.imshow(Kprior)\n",
    "#     plt.colorbar()\n",
    "#     plt.subplot(2,3,2)\n",
    "#     plt.plot(z)\n",
    "\n",
    "#     with sess.as_default():\n",
    "#         Kzall = rbf(const(zall),lengthscale=const(l),variance=const(sig_f)).eval()\n",
    "\n",
    "#     Kz = Kzall[:N,:N]\n",
    "#     xall = np.random.multivariate_normal(np.zeros(Nall), Kzall, D).T\n",
    "#     x = xall[:N,:]\n",
    "#     xgrid = xall[N:,:]\n",
    "#     noise = np.random.randn(x.shape[0],x.shape[1])\n",
    "#     x = x + sig_n*noise\n",
    "\n",
    "#     plt.subplot(2,3,4)\n",
    "#     plt.imshow(Kz)\n",
    "#     plt.colorbar()\n",
    "#     plt.subplot(2,3,5)\n",
    "#     plt.imshow(np.cov(x))\n",
    "#     plt.colorbar()\n",
    "#     plt.subplot(2,3,6)\n",
    "#     plt.plot(xgrid[:,:5])\n",
    "\n",
    "#     return x,xgrid,z,zgrid,tgrid,Kz,Kprior\n",
    "\n",
    "# N = 500  # number of data points, number of time points\n",
    "# D = 200  # data dimensionality, number of neurons\n",
    "# K = 1  # latent dimensionality\n",
    "\n",
    "# x_true, xgrid, z_true, zgrid, tgrid, Kz_true, Kprior_true = build_toy_dataset(N, D, K)\n",
    "\n",
    "# print(\"Number of data points N={}\".format(N))\n",
    "# print(\"Number of features D={}\".format(D))\n",
    "# print(\"Number of latent dimensions K={}\".format(K))\n",
    "\n",
    "# pca = PCA(n_components=1)\n",
    "# z_init = pca.fit_transform(x_true)\n",
    "\n",
    "# # visualize the covariance of Z\n",
    "# plt.subplot(2,3,3)\n",
    "# plt.plot(z_init)\n",
    "\n",
    "# scipy.io.savemat('syn.mat',mdict={'x_true':x_true, 'xgrid':xgrid, 'z_true':z_true, 'zgrid':zgrid, \n",
    "#                                   'tgrid':tgrid, 'Kz_true':Kz_true, 'Kprior_true':Kprior_true})"
   ]
  },
  {
   "cell_type": "code",
   "execution_count": null,
   "metadata": {
    "collapsed": false
   },
   "outputs": [],
   "source": [
    "data = scipy.io.loadmat('syn.mat')\n",
    "x_true = data['x_true']\n",
    "xgrid = data['xgrid']\n",
    "z_true = data['z_true']\n",
    "zgrid = data['zgrid']\n",
    "tgrid = data['tgrid']\n",
    "Kz_true = data['Kz_true']\n",
    "Kprior_true = data['Kprior_true']\n",
    "\n",
    "N = x_true.shape[0]\n",
    "D = x_true.shape[1]\n",
    "K = z_true.shape[1]\n",
    "\n",
    "pca = PCA(n_components=K)\n",
    "z_init = pca.fit_transform(x_true)\n",
    "\n",
    "plt.subplots(2,3,figsize=(10,6))\n",
    "plt.subplot(2,3,1)\n",
    "plt.imshow(Kprior_true)\n",
    "plt.colorbar()\n",
    "plt.subplot(2,3,2)\n",
    "plt.plot(z_true)\n",
    "\n",
    "plt.subplot(2,3,4)\n",
    "plt.imshow(Kz_true)\n",
    "plt.colorbar()\n",
    "plt.subplot(2,3,5)\n",
    "plt.imshow(np.cov(x_true))\n",
    "plt.colorbar()\n",
    "plt.subplot(2,3,6)\n",
    "plt.plot(xgrid[:,:5])\n",
    "plt.subplot(2,3,3)\n",
    "plt.plot(z_init)\n",
    "\n",
    "t_train = tgrid\n",
    "x_train = x_true\n",
    "\n",
    "print(\"Number of data points N={}\".format(N))\n",
    "print(\"Number of features D={}\".format(D))\n",
    "print(\"Number of latent dimensions K={}\".format(K))"
   ]
  },
  {
   "cell_type": "code",
   "execution_count": null,
   "metadata": {
    "collapsed": false
   },
   "outputs": [],
   "source": [
    "def const(x):\n",
    "    x = tf.constant(x,dtype=tf.float32)\n",
    "    return x\n",
    "\n",
    "# prior_l=2, prior_sig_f=1, l=0.5, sig_f=1, sig_n=1e-1\n",
    "\n",
    "sig_f = tf.Variable(np.log(1), dtype=tf.float32)\n",
    "l = tf.Variable(np.log(10), dtype=tf.float32)\n",
    "# sig_n = tf.Variable(np.log(0.01), dtype=tf.float32)\n",
    "# sig_f = const(np.log(1))\n",
    "# l = const(np.log(0.5))\n",
    "sig_n = const(np.log(1))\n",
    "prior_sig_f = const(np.log(1))\n",
    "prior_l = const(np.log(0.5))\n",
    "prior_sig_n = const(np.log(0.0001))\n",
    "\n",
    "tg = const(tgrid)\n",
    "Kprior = rbf(tg,lengthscale=tf.exp(prior_l),variance=tf.exp(prior_sig_f))+tf.exp(prior_sig_n)*tf.eye(N)\n",
    "z = MultivariateNormalTriL(loc=tf.zeros([K, N]), scale_tril=tf.cholesky(Kprior))\n",
    "Kernel = rbf(tf.transpose(z),lengthscale=tf.exp(l),variance=tf.exp(sig_f))+tf.exp(sig_n)*tf.eye(N)\n",
    "x = MultivariateNormalTriL(loc=tf.zeros([D, N]), scale_tril=tf.cholesky(Kernel))\n",
    "\n",
    "# qz = Normal(loc=tf.Variable(tf.ones([K, N])*1e-2),\n",
    "#             scale=tf.square(tf.Variable(tf.ones([K, N])*1e-2)))\n",
    "qz = Normal(loc=tf.Variable(z_init.T,dtype=tf.float32),\n",
    "            scale=tf.square(tf.Variable(tf.ones([K, N])*1e-2)))\n",
    "\n",
    "inference = ed.KLqp({z: qz}, data={x: x_train.T})\n",
    "inference.run(n_iter=1000, n_print=10, n_samples=10)"
   ]
  },
  {
   "cell_type": "code",
   "execution_count": null,
   "metadata": {
    "collapsed": true
   },
   "outputs": [],
   "source": [
    "sess = ed.get_session()\n",
    "qz_mean, qz_var, sig_f_est, sig_n_est, l_est = sess.run([qz.mean(),qz.variance(),sig_f,sig_n,l],feed_dict={x: x_train.T})\n",
    "print(\"sig_f_est=\", \"{:.9f}\".format(np.exp(sig_f_est)), \"sig_n_est=\", \"{:.9f}\".format(np.exp(sig_n_est))\n",
    "      , \"l_est=\", \"{:.9f}\".format(np.exp(l_est)))\n",
    "\n",
    "sig_f = const(sig_f_est)\n",
    "l = const(l_est)\n",
    "# sig_n = tf.Variable(np.log(1), dtype=tf.float32)\n",
    "sig_n = const(np.log(0.1))\n",
    "\n",
    "tg = const(tgrid)\n",
    "Kprior = rbf(tg,lengthscale=tf.exp(prior_l),variance=tf.exp(prior_sig_f))+tf.exp(prior_sig_n)*tf.eye(N)\n",
    "z = MultivariateNormalTriL(loc=tf.zeros([K, N]), scale_tril=tf.cholesky(Kprior))\n",
    "Kernel = rbf(tf.transpose(z),lengthscale=tf.exp(l),variance=tf.exp(sig_f))+tf.exp(sig_n)*tf.eye(N)\n",
    "x = MultivariateNormalTriL(loc=tf.zeros([D, N]), scale_tril=tf.cholesky(Kernel))\n",
    "\n",
    "qz = Normal(loc=tf.Variable(qz_mean,dtype=tf.float32),\n",
    "            scale=tf.Variable(qz_var,dtype=tf.float32))\n",
    "\n",
    "inference = ed.KLqp({z: qz}, data={x: x_train.T})\n",
    "inference.run(n_iter=1000, n_print=10, n_samples=10)\n",
    "  "
   ]
  },
  {
   "cell_type": "code",
   "execution_count": null,
   "metadata": {
    "collapsed": true
   },
   "outputs": [],
   "source": [
    "sess = ed.get_session()\n",
    "qz_mean, qz_var, sig_f_est, sig_n_est, l_est = sess.run([qz.mean(),qz.variance(),sig_f,sig_n,l],feed_dict={x: x_train.T})\n",
    "print(\"sig_f_est=\", \"{:.9f}\".format(np.exp(sig_f_est)), \"sig_n_est=\", \"{:.9f}\".format(np.exp(sig_n_est))\n",
    "      , \"l_est=\", \"{:.9f}\".format(np.exp(l_est)))\n",
    "qz_mean = qz_mean.T\n",
    "Kz = rbf(const(qz_mean),lengthscale=tf.exp(l_est),variance=tf.exp(sig_f_est)).eval()\n",
    "Kz = Kz/np.amax(Kz)\n",
    "\n",
    "def match_z(x,z):\n",
    "    cp = np.corrcoef(x.T,z.T)[0,1]\n",
    "    cn = np.corrcoef(-x.T,z.T)[0,1]\n",
    "    if cp<cn:\n",
    "        return -x\n",
    "    else:\n",
    "        return x\n",
    "    \n",
    "plt.subplots(2,3,figsize=(10,5))\n",
    "plt.subplot(2,3,1)\n",
    "plt.imshow(Kz)\n",
    "plt.colorbar()\n",
    "plt.subplot(2,3,2)\n",
    "plt.imshow(np.cov(x_true))\n",
    "plt.colorbar()\n",
    "plt.subplot(2,3,3)\n",
    "plt.imshow(Kz_true)\n",
    "plt.colorbar()\n",
    "plt.subplot(2,3,4)\n",
    "plt.imshow(Kprior_true)\n",
    "plt.colorbar()\n",
    "plt.subplot(2,2,4)\n",
    "plt.plot(match_z(z_init/np.linalg.norm(z_init),z_true/np.linalg.norm(z_true)))\n",
    "plt.plot(z_true/np.linalg.norm(z_true))\n",
    "plt.plot(match_z(qz_mean/np.linalg.norm(qz_mean),z_true/np.linalg.norm(z_true)))\n"
   ]
  },
  {
   "cell_type": "code",
   "execution_count": null,
   "metadata": {
    "collapsed": true
   },
   "outputs": [],
   "source": []
  }
 ],
 "metadata": {
  "anaconda-cloud": {},
  "kernelspec": {
   "display_name": "Python 3",
   "language": "python",
   "name": "python3"
  },
  "language_info": {
   "codemirror_mode": {
    "name": "ipython",
    "version": 3
   },
   "file_extension": ".py",
   "mimetype": "text/x-python",
   "name": "python",
   "nbconvert_exporter": "python",
   "pygments_lexer": "ipython3",
   "version": "3.6.0"
  }
 },
 "nbformat": 4,
 "nbformat_minor": 1
}
