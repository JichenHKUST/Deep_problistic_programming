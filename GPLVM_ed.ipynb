{
 "cells": [
  {
   "cell_type": "markdown",
   "metadata": {},
   "source": [
    "# GPLVM"
   ]
  },
  {
   "cell_type": "code",
   "execution_count": null,
   "metadata": {
    "collapsed": true
   },
   "outputs": [],
   "source": [
    "from __future__ import absolute_import\n",
    "from __future__ import division\n",
    "from __future__ import print_function\n",
    "%matplotlib notebook\n",
    "\n",
    "import edward as ed\n",
    "import numpy as np\n",
    "import tensorflow as tf\n",
    "import matplotlib.pyplot as plt\n",
    "\n",
    "from edward.models import Bernoulli, MultivariateNormalTriL, Normal\n",
    "from edward.util import rbf\n",
    "from observations import crabs\n",
    "from sklearn.decomposition import PCA\n",
    "import scipy.io"
   ]
  },
  {
   "cell_type": "code",
   "execution_count": null,
   "metadata": {
    "collapsed": false
   },
   "outputs": [],
   "source": [
    "data = scipy.io.loadmat('syn.mat')\n",
    "x_true = data['x_true']\n",
    "xgrid = data['xgrid']\n",
    "z_true = data['z_true']\n",
    "zgrid = data['zgrid']\n",
    "tgrid = data['tgrid']\n",
    "Kz_true = data['Kz_true']\n",
    "Kprior_true = data['Kprior_true']\n",
    "\n",
    "N = x_true.shape[0]\n",
    "D = x_true.shape[1]\n",
    "K = z_true.shape[1]\n",
    "\n",
    "pca = PCA(n_components=K)\n",
    "z_init = pca.fit_transform(x_true)\n",
    "\n",
    "plt.subplots(2,3,figsize=(10,6))\n",
    "plt.subplot(2,3,1)\n",
    "plt.imshow(Kprior_true)\n",
    "plt.colorbar()\n",
    "plt.subplot(2,3,2)\n",
    "plt.plot(z_true)\n",
    "\n",
    "plt.subplot(2,3,4)\n",
    "plt.imshow(Kz_true)\n",
    "plt.colorbar()\n",
    "plt.subplot(2,3,5)\n",
    "plt.imshow(np.cov(x_true))\n",
    "plt.colorbar()\n",
    "plt.subplot(2,3,6)\n",
    "plt.plot(xgrid[:,:5])\n",
    "plt.subplot(2,3,3)\n",
    "plt.plot(z_init)\n",
    "\n",
    "t_train = tgrid\n",
    "x_train = x_true\n",
    "\n",
    "print(\"Number of data points N={}\".format(N))\n",
    "print(\"Number of features D={}\".format(D))\n",
    "print(\"Number of latent dimensions K={}\".format(K))"
   ]
  },
  {
   "cell_type": "code",
   "execution_count": null,
   "metadata": {
    "collapsed": true
   },
   "outputs": [],
   "source": [
    "def const(x):\n",
    "    x = tf.constant(x,dtype=tf.float32)\n",
    "    return x\n",
    "\n",
    "sig_f = tf.Variable(np.log(1), dtype=tf.float32)\n",
    "l = tf.Variable(np.log(10), dtype=tf.float32)\n",
    "# sig_n = tf.Variable(np.log(0.01), dtype=tf.float32)\n",
    "# sig_f = const(np.log(1))\n",
    "# l = const(np.log(0.5))\n",
    "sig_n = const(np.log(1))\n",
    "prior_sig_n = const(np.log(1))"
   ]
  },
  {
   "cell_type": "code",
   "execution_count": null,
   "metadata": {
    "collapsed": false
   },
   "outputs": [],
   "source": [
    "z = Normal(loc=tf.zeros([K, N]), scale=tf.ones([K, N])*tf.exp(prior_sig_n))\n",
    "Kernel = rbf(tf.transpose(z),lengthscale=tf.exp(l),variance=tf.exp(sig_f))+tf.exp(sig_n)*tf.eye(N)\n",
    "x = MultivariateNormalTriL(loc=tf.zeros([D, N]), scale_tril=tf.cholesky(Kernel))"
   ]
  },
  {
   "cell_type": "code",
   "execution_count": null,
   "metadata": {
    "collapsed": false
   },
   "outputs": [],
   "source": [
    "qz = Normal(loc=tf.Variable(tf.ones([K, N])*1e-2),\n",
    "            scale=tf.square(tf.Variable(tf.ones([K, N])*1e-2)))\n",
    "# qz = Normal(loc=tf.Variable(z_init.T,dtype=tf.float32),\n",
    "#             scale=tf.square(tf.Variable(tf.ones([K, N])*1e-2)))\n",
    "\n",
    "\n",
    "inference = ed.KLqp({z: qz}, data={x: x_train.T})\n",
    "inference.run(n_iter=2000, n_print=10, n_samples=10)"
   ]
  },
  {
   "cell_type": "code",
   "execution_count": null,
   "metadata": {
    "collapsed": false
   },
   "outputs": [],
   "source": [
    "sess = ed.get_session()\n",
    "qz_mean, qz_var, sig_f_est, sig_n_est, l_est = sess.run([qz.mean(),qz.variance(),sig_f,sig_n,l],feed_dict={x: x_train.T})\n",
    "print(\"sig_f_est=\", \"{:.9f}\".format(np.exp(sig_f_est)), \"sig_n_est=\", \"{:.9f}\".format(np.exp(sig_n_est))\n",
    "      , \"l_est=\", \"{:.9f}\".format(np.exp(l_est)))\n",
    "qz_mean = qz_mean.T\n",
    "Kz = rbf(const(qz_mean),lengthscale=tf.exp(l_est),variance=tf.exp(sig_f_est)).eval()\n",
    "Kz = Kz/np.amax(Kz)\n",
    "\n",
    "def match_z(x,z):\n",
    "    cp = np.corrcoef(x.T,z.T)[0,1]\n",
    "    cn = np.corrcoef(-x.T,z.T)[0,1]\n",
    "    if cp<cn:\n",
    "        return -x\n",
    "    else:\n",
    "        return x\n",
    "    \n",
    "plt.subplots(2,3,figsize=(10,5))\n",
    "plt.subplot(2,3,1)\n",
    "plt.imshow(Kz)\n",
    "plt.colorbar()\n",
    "plt.subplot(2,3,2)\n",
    "plt.imshow(np.cov(x_true))\n",
    "plt.colorbar()\n",
    "plt.subplot(2,3,3)\n",
    "plt.imshow(Kz_true)\n",
    "plt.colorbar()\n",
    "plt.subplot(2,3,4)\n",
    "plt.imshow(Kprior_true)\n",
    "plt.colorbar()\n",
    "plt.subplot(2,2,4)\n",
    "plt.plot(match_z(z_init/np.linalg.norm(z_init),z_true/np.linalg.norm(z_true)))\n",
    "plt.plot(z_true/np.linalg.norm(z_true))\n",
    "plt.plot(match_z(qz_mean/np.linalg.norm(qz_mean),z_true/np.linalg.norm(z_true)))\n"
   ]
  },
  {
   "cell_type": "code",
   "execution_count": null,
   "metadata": {
    "collapsed": true
   },
   "outputs": [],
   "source": []
  }
 ],
 "metadata": {
  "anaconda-cloud": {},
  "kernelspec": {
   "display_name": "Python 3",
   "language": "python",
   "name": "python3"
  },
  "language_info": {
   "codemirror_mode": {
    "name": "ipython",
    "version": 3
   },
   "file_extension": ".py",
   "mimetype": "text/x-python",
   "name": "python",
   "nbconvert_exporter": "python",
   "pygments_lexer": "ipython3",
   "version": "3.6.0"
  }
 },
 "nbformat": 4,
 "nbformat_minor": 1
}
